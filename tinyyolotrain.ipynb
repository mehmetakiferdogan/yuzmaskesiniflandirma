{
  "nbformat": 4,
  "nbformat_minor": 0,
  "metadata": {
    "accelerator": "GPU",
    "colab": {
      "name": "tinyyolodeneme",
      "provenance": [],
      "collapsed_sections": []
    },
    "kernelspec": {
      "display_name": "Python 3",
      "name": "python3"
    },
    "language_info": {
      "name": "python"
    }
  },
  "cells": [
    {
      "cell_type": "code",
      "metadata": {
        "colab": {
          "base_uri": "https://localhost:8080/"
        },
        "id": "OwYV2tYnB-MK",
        "outputId": "48423e03-8518-4cb5-98f7-4dfb8ccc5d45"
      },
      "source": [
        "%ls -lah backup"
      ],
      "execution_count": null,
      "outputs": [
        {
          "output_type": "stream",
          "name": "stdout",
          "text": [
            "ls: cannot access 'backup': No such file or directory\n"
          ]
        }
      ]
    },
    {
      "cell_type": "code",
      "metadata": {
        "colab": {
          "base_uri": "https://localhost:8080/"
        },
        "id": "pVxD3r86Xi9G",
        "outputId": "afe6f52e-41e3-45f8-c427-3e88c02c15a9"
      },
      "source": [
        "from google.colab import drive\n",
        "drive.mount('/content/gdrive')"
      ],
      "execution_count": null,
      "outputs": [
        {
          "output_type": "stream",
          "name": "stdout",
          "text": [
            "Mounted at /content/gdrive\n"
          ]
        }
      ]
    },
    {
      "cell_type": "code",
      "metadata": {
        "colab": {
          "base_uri": "https://localhost:8080/"
        },
        "id": "dCDgHiMF2WFN",
        "outputId": "4f653a5d-d012-41e8-fd78-832eab8167af"
      },
      "source": [
        "!git clone https://github.com/AlexeyAB/darknet.git;\n",
        "!sed -i 's/OPENCV=0/OPENCV=1/' darknet/Makefile\n",
        "!sed -i 's/GPU=0/GPU=1/' darknet/Makefile\n",
        "!sed -i 's/CUDNN=0/CUDNN=1/' darknet/Makefile\n",
        "!sed -i 's/CUDNN_HALF=0/CUDNN_HALF=1/' darknet/Makefile"
      ],
      "execution_count": null,
      "outputs": [
        {
          "output_type": "stream",
          "name": "stdout",
          "text": [
            "Cloning into 'darknet'...\n",
            "remote: Enumerating objects: 15395, done.\u001b[K\n",
            "remote: Total 15395 (delta 0), reused 0 (delta 0), pack-reused 15395\u001b[K\n",
            "Receiving objects: 100% (15395/15395), 14.02 MiB | 3.80 MiB/s, done.\n",
            "Resolving deltas: 100% (10353/10353), done.\n"
          ]
        }
      ]
    },
    {
      "cell_type": "code",
      "metadata": {
        "id": "tBHANInf8hPm"
      },
      "source": [
        "%cd darknet\n",
        "!make\n",
        "%cd .."
      ],
      "execution_count": null,
      "outputs": []
    },
    {
      "cell_type": "code",
      "metadata": {
        "id": "Fd6UUkQ12d5a",
        "colab": {
          "base_uri": "https://localhost:8080/"
        },
        "outputId": "323539db-1e94-423a-8c5c-1b25d3f34926"
      },
      "source": [
        "!curl -L \"https://app.roboflow.com/ds/dqqgEW4f75?key=AQHW10MzAl\" > roboflow.zip; unzip roboflow.zip; rm roboflow.zip"
      ],
      "execution_count": null,
      "outputs": [
        {
          "output_type": "stream",
          "name": "stdout",
          "text": [
            "  % Total    % Received % Xferd  Average Speed   Time    Time     Time  Current\n",
            "                                 Dload  Upload   Total   Spent    Left  Speed\n",
            "100   890  100   890    0     0   1379      0 --:--:-- --:--:-- --:--:--  1377\n",
            "100   251  100   251    0     0    314      0 --:--:-- --:--:-- --:--:--   314\n",
            "Archive:  roboflow.zip\n",
            "  End-of-central-directory signature not found.  Either this file is not\n",
            "  a zipfile, or it constitutes one disk of a multi-part archive.  In the\n",
            "  latter case the central directory and zipfile comment will be found on\n",
            "  the last disk(s) of this archive.\n",
            "unzip:  cannot find zipfile directory in one of roboflow.zip or\n",
            "        roboflow.zip.zip, and cannot find roboflow.zip.ZIP, period.\n"
          ]
        }
      ]
    },
    {
      "cell_type": "code",
      "metadata": {
        "id": "1zNoui2jqoxg",
        "colab": {
          "base_uri": "https://localhost:8080/"
        },
        "outputId": "5dfe03ff-9006-496f-c519-0e1515832834"
      },
      "source": [
        "!python changer.py valid;python changer.py test;python changer.py train"
      ],
      "execution_count": null,
      "outputs": [
        {
          "output_type": "stream",
          "name": "stdout",
          "text": [
            "python3: can't open file 'changer.py': [Errno 2] No such file or directory\n",
            "python3: can't open file 'changer.py': [Errno 2] No such file or directory\n",
            "python3: can't open file 'changer.py': [Errno 2] No such file or directory\n"
          ]
        }
      ]
    },
    {
      "cell_type": "code",
      "metadata": {
        "id": "NIpNZ06O3Agy"
      },
      "source": [
        "!touch facedet.data facedet.names; mkdir backup"
      ],
      "execution_count": null,
      "outputs": []
    },
    {
      "cell_type": "markdown",
      "metadata": {
        "id": "h3WE0sRv35Pq"
      },
      "source": [
        "yeni .names:\n",
        "```\n",
        "maske_yok\n",
        "maske_var\n",
        "yanlis_takili_maskeli\n",
        "```\n",
        "\n",
        "\n",
        "\n",
        "\n",
        ".names:\n",
        "```\n",
        "mask_weared_incorrect\n",
        "with_mask\n",
        "without_mask\n",
        "```\n",
        "----------\n",
        ".data:\n",
        "```\n",
        "classes = 3\n",
        "train  = train/train.txt\n",
        "valid  = valid/valid.txt\n",
        "names = facedet.names\n",
        "backup = backup/\n",
        "```\n"
      ]
    },
    {
      "cell_type": "code",
      "metadata": {
        "id": "kxJ1mnxJ3RBv",
        "colab": {
          "base_uri": "https://localhost:8080/",
          "height": 245
        },
        "outputId": "4901ef62-1637-4995-fa0e-5ccb101db4bf"
      },
      "source": [
        "import os\n",
        "#test ve train için dosya isimlerini içeren txt oluştur\n",
        "for ekmek in [\"train\",\"test\",\"valid\"]:\n",
        "  image_files = []\n",
        "  os.chdir(os.path.join(ekmek, \"\"))\n",
        "  for filename in os.listdir(os.getcwd()):\n",
        "      if filename.endswith(\".jpg\"):\n",
        "          image_files.append(ekmek+\"/\" + filename)\n",
        "  os.chdir(\".\")\n",
        "  with open(ekmek +\".txt\", \"w\") as outfile:\n",
        "      for image in image_files:\n",
        "          outfile.write(image)\n",
        "          outfile.write(\"\\n\")\n",
        "      outfile.close()\n",
        "  os.chdir(\"..\")"
      ],
      "execution_count": null,
      "outputs": [
        {
          "output_type": "error",
          "ename": "FileNotFoundError",
          "evalue": "ignored",
          "traceback": [
            "\u001b[0;31m---------------------------------------------------------------------------\u001b[0m",
            "\u001b[0;31mFileNotFoundError\u001b[0m                         Traceback (most recent call last)",
            "\u001b[0;32m<ipython-input-8-5dd984c26a09>\u001b[0m in \u001b[0;36m<module>\u001b[0;34m()\u001b[0m\n\u001b[1;32m      3\u001b[0m \u001b[0;32mfor\u001b[0m \u001b[0mekmek\u001b[0m \u001b[0;32min\u001b[0m \u001b[0;34m[\u001b[0m\u001b[0;34m\"train\"\u001b[0m\u001b[0;34m,\u001b[0m\u001b[0;34m\"test\"\u001b[0m\u001b[0;34m,\u001b[0m\u001b[0;34m\"valid\"\u001b[0m\u001b[0;34m]\u001b[0m\u001b[0;34m:\u001b[0m\u001b[0;34m\u001b[0m\u001b[0;34m\u001b[0m\u001b[0m\n\u001b[1;32m      4\u001b[0m   \u001b[0mimage_files\u001b[0m \u001b[0;34m=\u001b[0m \u001b[0;34m[\u001b[0m\u001b[0;34m]\u001b[0m\u001b[0;34m\u001b[0m\u001b[0;34m\u001b[0m\u001b[0m\n\u001b[0;32m----> 5\u001b[0;31m   \u001b[0mos\u001b[0m\u001b[0;34m.\u001b[0m\u001b[0mchdir\u001b[0m\u001b[0;34m(\u001b[0m\u001b[0mos\u001b[0m\u001b[0;34m.\u001b[0m\u001b[0mpath\u001b[0m\u001b[0;34m.\u001b[0m\u001b[0mjoin\u001b[0m\u001b[0;34m(\u001b[0m\u001b[0mekmek\u001b[0m\u001b[0;34m,\u001b[0m \u001b[0;34m\"\"\u001b[0m\u001b[0;34m)\u001b[0m\u001b[0;34m)\u001b[0m\u001b[0;34m\u001b[0m\u001b[0;34m\u001b[0m\u001b[0m\n\u001b[0m\u001b[1;32m      6\u001b[0m   \u001b[0;32mfor\u001b[0m \u001b[0mfilename\u001b[0m \u001b[0;32min\u001b[0m \u001b[0mos\u001b[0m\u001b[0;34m.\u001b[0m\u001b[0mlistdir\u001b[0m\u001b[0;34m(\u001b[0m\u001b[0mos\u001b[0m\u001b[0;34m.\u001b[0m\u001b[0mgetcwd\u001b[0m\u001b[0;34m(\u001b[0m\u001b[0;34m)\u001b[0m\u001b[0;34m)\u001b[0m\u001b[0;34m:\u001b[0m\u001b[0;34m\u001b[0m\u001b[0;34m\u001b[0m\u001b[0m\n\u001b[1;32m      7\u001b[0m       \u001b[0;32mif\u001b[0m \u001b[0mfilename\u001b[0m\u001b[0;34m.\u001b[0m\u001b[0mendswith\u001b[0m\u001b[0;34m(\u001b[0m\u001b[0;34m\".jpg\"\u001b[0m\u001b[0;34m)\u001b[0m\u001b[0;34m:\u001b[0m\u001b[0;34m\u001b[0m\u001b[0;34m\u001b[0m\u001b[0m\n",
            "\u001b[0;31mFileNotFoundError\u001b[0m: [Errno 2] No such file or directory: 'train/'"
          ]
        }
      ]
    },
    {
      "cell_type": "code",
      "metadata": {
        "id": "_QdeIp4N5HDp"
      },
      "source": [
        "!cp darknet/cfg/yolov4-tiny-custom.cfg ."
      ],
      "execution_count": null,
      "outputs": []
    },
    {
      "cell_type": "code",
      "metadata": {
        "id": "8ORnQKox5lA8"
      },
      "source": [
        "#filters=(classes + 5)x3: üç class içinb 24, yolo layerinden en 3 konv için\n",
        "#classes= $classes\n",
        "#4800,5400\n",
        "#tinyde 2 tane yolo war"
      ],
      "execution_count": null,
      "outputs": []
    },
    {
      "cell_type": "code",
      "metadata": {
        "id": "XUPor_VQ6S4b"
      },
      "source": [
        "#BURDA PRE TRAIN WEIGHLERI INDIRMEN LAZIM AMA SKİPLİYPORU MBAKİM\n",
        "!wget https://github.com/AlexeyAB/darknet/releases/download/darknet_yolo_v4_pre/yolov4-tiny.conv.29  "
      ],
      "execution_count": null,
      "outputs": []
    },
    {
      "cell_type": "code",
      "metadata": {
        "id": "RAe9_tdR6W3S"
      },
      "source": [
        "#!darknet/./darknet detector train facedet.data yolov4-tiny-custom.cfg yolov4-tiny.conv.29 -map -dont_show\n",
        "!darknet/./darknet detector -map -dont_show train facedet.data yolov4-tiny-custom.cfg -clear ;\n",
        "!cp backup/yolov4-tiny-custom_best.weightWs yolov4-tiny-custom.cfg chart.png backup/yolov4-tiny-custom_final.weights backup/yolov4-tiny-custom_last.weights gdrive/MyDrive/modelim/"
      ],
      "execution_count": null,
      "outputs": []
    },
    {
      "cell_type": "code",
      "metadata": {
        "id": "sXUVy8HH8cbg"
      },
      "source": [
        "!darknet/./darknet detector test facedet.data yolov4-tiny-custom.cfg backup/yolov4-tiny-custom_last.weights b.jpg;\n",
        "imShow(\"predictions.jpg\")"
      ],
      "execution_count": null,
      "outputs": []
    },
    {
      "cell_type": "code",
      "metadata": {
        "id": "HvrXxLUWS3UV"
      },
      "source": [
        "!cp gdrive/MyDrive/modelim/modelim"
      ],
      "execution_count": null,
      "outputs": []
    },
    {
      "cell_type": "code",
      "metadata": {
        "id": "CT54yN-dTJS-"
      },
      "source": [
        "!darknet/./darknet detector map facedet.data yolov4-tiny-custom.cfg backup/yolov4-tiny-custom_last.weights"
      ],
      "execution_count": null,
      "outputs": []
    },
    {
      "cell_type": "code",
      "metadata": {
        "id": "TatVAb6XTJMK"
      },
      "source": [
        "def imShow(path):\n",
        "  import cv2\n",
        "  import matplotlib.pyplot as plt\n",
        "  %matplotlib inline\n",
        "\n",
        "  image = cv2.imread(path)\n",
        "  height, width = image.shape[:2]\n",
        "  resized_image = cv2.resize(image,(3*width, 3*height), interpolation = cv2.INTER_CUBIC)\n",
        "\n",
        "  fig = plt.gcf()\n",
        "  fig.set_size_inches(18, 10)\n",
        "  plt.axis(\"off\")\n",
        "  plt.imshow(cv2.cvtColor(resized_image, cv2.COLOR_BGR2RGB))\n",
        "  plt.show()"
      ],
      "execution_count": null,
      "outputs": []
    },
    {
      "cell_type": "code",
      "metadata": {
        "id": "59Vul-QsFQ1B"
      },
      "source": [
        ""
      ],
      "execution_count": null,
      "outputs": []
    },
    {
      "cell_type": "code",
      "metadata": {
        "id": "Li2W4o6HFRBo"
      },
      "source": [
        "!darknet/./darknet detector test facedet.data yolov4-tiny-custom.cfg backup/yolov4-tiny-custom_last.weights b.jpg;\n"
      ],
      "execution_count": null,
      "outputs": []
    },
    {
      "cell_type": "code",
      "metadata": {
        "id": "cINg74_hkgRu"
      },
      "source": [
        "!find . -name \"yolo_cpp_dll\""
      ],
      "execution_count": null,
      "outputs": []
    }
  ]
}